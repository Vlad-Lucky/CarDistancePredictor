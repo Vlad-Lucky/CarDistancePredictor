{
  "cells": [
    {
      "cell_type": "markdown",
      "source": [
        "# Установка библиотеки"
      ],
      "metadata": {
        "id": "R1l-YOltwMzX"
      }
    },
    {
      "cell_type": "code",
      "execution_count": 1,
      "metadata": {
        "id": "pVxIUuDtxFym",
        "colab": {
          "base_uri": "https://localhost:8080/"
        },
        "outputId": "8f223eda-2ef1-44a6-9cf8-cf2918e37ce2"
      },
      "outputs": [
        {
          "output_type": "stream",
          "name": "stdout",
          "text": [
            "Looking in indexes: https://pypi.org/simple, https://us-python.pkg.dev/colab-wheels/public/simple/\n",
            "Collecting pillow_heif\n",
            "  Downloading pillow_heif-0.6.1-cp36-abi3-manylinux_2_17_x86_64.manylinux2014_x86_64.whl (7.4 MB)\n",
            "\u001b[K     |████████████████████████████████| 7.4 MB 5.1 MB/s \n",
            "\u001b[?25hRequirement already satisfied: cffi>=1.14.6 in /usr/local/lib/python3.7/dist-packages (from pillow_heif) (1.15.1)\n",
            "Requirement already satisfied: pillow>=6.2.0 in /usr/local/lib/python3.7/dist-packages (from pillow_heif) (7.1.2)\n",
            "Requirement already satisfied: pycparser in /usr/local/lib/python3.7/dist-packages (from cffi>=1.14.6->pillow_heif) (2.21)\n",
            "Installing collected packages: pillow-heif\n",
            "Successfully installed pillow-heif-0.6.1\n"
          ]
        }
      ],
      "source": [
        "!pip install pillow_heif"
      ]
    },
    {
      "cell_type": "code",
      "execution_count": 2,
      "metadata": {
        "id": "6sGkKkEYU31d",
        "colab": {
          "base_uri": "https://localhost:8080/"
        },
        "outputId": "94243789-3316-4b6c-93ce-aa4efcfe4b1f"
      },
      "outputs": [
        {
          "output_type": "stream",
          "name": "stdout",
          "text": [
            "Looking in indexes: https://pypi.org/simple, https://us-python.pkg.dev/colab-wheels/public/simple/\n",
            "Collecting catboost\n",
            "  Downloading catboost-1.0.6-cp37-none-manylinux1_x86_64.whl (76.6 MB)\n",
            "\u001b[K     |████████████████████████████████| 76.6 MB 80 kB/s \n",
            "\u001b[?25hRequirement already satisfied: six in /usr/local/lib/python3.7/dist-packages (from catboost) (1.15.0)\n",
            "Requirement already satisfied: plotly in /usr/local/lib/python3.7/dist-packages (from catboost) (5.5.0)\n",
            "Requirement already satisfied: scipy in /usr/local/lib/python3.7/dist-packages (from catboost) (1.7.3)\n",
            "Requirement already satisfied: matplotlib in /usr/local/lib/python3.7/dist-packages (from catboost) (3.2.2)\n",
            "Requirement already satisfied: pandas>=0.24.0 in /usr/local/lib/python3.7/dist-packages (from catboost) (1.3.5)\n",
            "Requirement already satisfied: graphviz in /usr/local/lib/python3.7/dist-packages (from catboost) (0.10.1)\n",
            "Requirement already satisfied: numpy>=1.16.0 in /usr/local/lib/python3.7/dist-packages (from catboost) (1.21.6)\n",
            "Requirement already satisfied: pytz>=2017.3 in /usr/local/lib/python3.7/dist-packages (from pandas>=0.24.0->catboost) (2022.2.1)\n",
            "Requirement already satisfied: python-dateutil>=2.7.3 in /usr/local/lib/python3.7/dist-packages (from pandas>=0.24.0->catboost) (2.8.2)\n",
            "Requirement already satisfied: kiwisolver>=1.0.1 in /usr/local/lib/python3.7/dist-packages (from matplotlib->catboost) (1.4.4)\n",
            "Requirement already satisfied: pyparsing!=2.0.4,!=2.1.2,!=2.1.6,>=2.0.1 in /usr/local/lib/python3.7/dist-packages (from matplotlib->catboost) (3.0.9)\n",
            "Requirement already satisfied: cycler>=0.10 in /usr/local/lib/python3.7/dist-packages (from matplotlib->catboost) (0.11.0)\n",
            "Requirement already satisfied: typing-extensions in /usr/local/lib/python3.7/dist-packages (from kiwisolver>=1.0.1->matplotlib->catboost) (4.1.1)\n",
            "Requirement already satisfied: tenacity>=6.2.0 in /usr/local/lib/python3.7/dist-packages (from plotly->catboost) (8.0.1)\n",
            "Installing collected packages: catboost\n",
            "Successfully installed catboost-1.0.6\n"
          ]
        }
      ],
      "source": [
        "!pip install catboost"
      ]
    },
    {
      "cell_type": "markdown",
      "source": [
        "# Начало"
      ],
      "metadata": {
        "id": "ab1g4A5-wQf7"
      }
    },
    {
      "cell_type": "code",
      "execution_count": 3,
      "metadata": {
        "id": "H5_hXlE4wWjz"
      },
      "outputs": [],
      "source": [
        "import pandas as pd\n",
        "import os\n",
        "from PIL import Image, ImageDraw, ImageFilter\n",
        "import numpy as np\n",
        "import pillow_heif\n",
        "from tqdm import tqdm\n",
        "import cv2\n",
        "from matplotlib import pyplot as plt\n",
        "import matplotlib\n",
        "import imutils\n",
        "import json\n",
        "import pickle\n",
        "import torch\n",
        "import pickle\n",
        "from sklearn.linear_model import LinearRegression\n",
        "from sklearn.ensemble import RandomForestRegressor\n",
        "from functools import lru_cache\n",
        "from catboost import CatBoostRegressor\n",
        "import shutil"
      ]
    },
    {
      "cell_type": "code",
      "execution_count": 4,
      "metadata": {
        "colab": {
          "base_uri": "https://localhost:8080/"
        },
        "id": "Wss93zPSxO49",
        "outputId": "b20a0d68-3a3c-44e1-9a48-f75791737af3"
      },
      "outputs": [
        {
          "output_type": "stream",
          "name": "stdout",
          "text": [
            "Mounted at /content/drive\n"
          ]
        }
      ],
      "source": [
        "from google.colab import drive\n",
        "drive.mount('/content/drive')"
      ]
    },
    {
      "cell_type": "code",
      "execution_count": 5,
      "metadata": {
        "id": "ongjzPzPxLuN"
      },
      "outputs": [],
      "source": [
        "WORKING_DIR = ''#'/content/drive/MyDrive/ai/cardistance/'"
      ]
    },
    {
      "cell_type": "code",
      "execution_count": 6,
      "metadata": {
        "id": "ozwTMLMixc6y"
      },
      "outputs": [],
      "source": [
        "test_img_names = list(set(os.listdir(WORKING_DIR + 'datasets/test')))\n",
        "train_img_names = list(set(os.listdir(WORKING_DIR + 'datasets/train')))"
      ]
    },
    {
      "cell_type": "code",
      "execution_count": 7,
      "metadata": {
        "id": "3A9wmZ3Vxhbr"
      },
      "outputs": [],
      "source": [
        "train_labels_first_df = pd.read_csv(WORKING_DIR + 'datasets/train.csv', sep=';', index_col=None)\n",
        "train_labels_first_df = train_labels_first_df.rename({'image_name': 'img_name'}, axis='columns')"
      ]
    },
    {
      "cell_type": "code",
      "execution_count": 8,
      "metadata": {
        "id": "HdbfWr4Dq7Ah"
      },
      "outputs": [],
      "source": [
        "model_vs = ['v5n', 'v5s', 'v5m', 'v5l', 'v5x', 'v5n6', 'v5s6', 'v5m6', 'v5l6', 'v5x6']"
      ]
    },
    {
      "cell_type": "code",
      "execution_count": 9,
      "metadata": {
        "id": "ZXegA3x1uL6R"
      },
      "outputs": [],
      "source": [
        "DEVICE = torch.device('cuda:0') if torch.cuda.is_available() else torch.device('cpu')"
      ]
    },
    {
      "cell_type": "code",
      "source": [
        "MODEL_VERSIONS_PRIORITY = ['v5l6', 'v5n', 'v5n6']\n",
        "W_IMG, H_IMG = 4032, 3024"
      ],
      "metadata": {
        "id": "zAkfxpVAGThp"
      },
      "execution_count": 10,
      "outputs": []
    },
    {
      "cell_type": "code",
      "source": [
        "DATA_TRAINING_COLS = ['xmin_car', 'ymin_car', 'xmax_car', 'ymax_car', 'xmin_plate', 'ymin_plate', 'xmax_plate', 'ymax_plate', 'distance']\n",
        "DATA_TESTING_COLS = DATA_TRAINING_COLS[:-1]"
      ],
      "metadata": {
        "id": "lQ7k9va1qCta"
      },
      "execution_count": 11,
      "outputs": []
    },
    {
      "cell_type": "code",
      "source": [
        "@lru_cache(maxsize=128)\n",
        "def get_img(img_name):\n",
        "    if img_name in train_img_names:\n",
        "        dataset_dir = WORKING_DIR + 'datasets/train/'\n",
        "    else:\n",
        "        dataset_dir = WORKING_DIR + 'datasets/test/'\n",
        "\n",
        "    if 'heic' in img_name:\n",
        "        heif_file = pillow_heif.read_heif(os.path.join(dataset_dir, img_name))\n",
        "        img = Image.frombytes(\n",
        "            heif_file.mode,\n",
        "            heif_file.size,\n",
        "            heif_file.data,\n",
        "            \"raw\"\n",
        "        )\n",
        "    else:\n",
        "        img = Image.open(os.path.join(dataset_dir, img_name))\n",
        "    \n",
        "    return img"
      ],
      "metadata": {
        "id": "YCZSnnNNwYce"
      },
      "execution_count": 12,
      "outputs": []
    },
    {
      "cell_type": "markdown",
      "source": [
        "# Анализ"
      ],
      "metadata": {
        "id": "xb3_HH2_wjlm"
      }
    },
    {
      "cell_type": "code",
      "source": [
        "# проверка размеров картинок\n",
        "sizes = set()\n",
        "for img_name in tqdm(list(train_img_names) + list(test_img_names)):\n",
        "    if img_name in train_img_names:\n",
        "        dataset_dir = WORKING_DIR + 'datasets/train/'\n",
        "    else:\n",
        "        dataset_dir = WORKING_DIR + 'datasets/test/'\n",
        "\n",
        "    if 'heic' in img_name:\n",
        "        heif_file = pillow_heif.read_heif(os.path.join(dataset_dir, img_name))\n",
        "        img = Image.frombytes(\n",
        "            heif_file.mode,\n",
        "            heif_file.size,\n",
        "            heif_file.data,\n",
        "            \"raw\"\n",
        "        )\n",
        "    else:\n",
        "        img = Image.open(os.path.join(dataset_dir, img_name))\n",
        "    \n",
        "    sizes.add(img.size)"
      ],
      "metadata": {
        "id": "xDJPHkdRwirn"
      },
      "execution_count": null,
      "outputs": []
    },
    {
      "cell_type": "code",
      "source": [
        "sizes"
      ],
      "metadata": {
        "colab": {
          "base_uri": "https://localhost:8080/"
        },
        "id": "ZQ2KRIL2xlmN",
        "outputId": "1d83e5c3-74fb-49b8-cc30-9230d8262a3a"
      },
      "execution_count": 19,
      "outputs": [
        {
          "output_type": "execute_result",
          "data": {
            "text/plain": [
              "{(4032, 3024)}"
            ]
          },
          "metadata": {},
          "execution_count": 19
        }
      ]
    },
    {
      "cell_type": "markdown",
      "source": [
        "#  Train/Test"
      ],
      "metadata": {
        "id": "4EsAwYxzxvZ1"
      }
    },
    {
      "cell_type": "code",
      "source": [
        "# вырезание номерных знаков\n",
        "cascade_classifier = cv2.CascadeClassifier(WORKING_DIR + 'haarcascade_russian_plate_number.xml')\n",
        "def get_car_plate(img, x_shift=0, y_shift=0):\n",
        "    img = np.array(img)\n",
        "    img = img[:, :, ::-1].copy()\n",
        "    gray = cv2.cvtColor(img, cv2.COLOR_BGR2GRAY)  # convert to grey scale\n",
        "    detected = cascade_classifier.detectMultiScale(gray, 1.2)\n",
        "\n",
        "    new_imgs = []\n",
        "    for numbers in detected:\n",
        "        x, y, w, h = numbers\n",
        "        x += x_shift\n",
        "        y += y_shift\n",
        "        new_imgs.append([x, y, w, h])\n",
        "    return new_imgs"
      ],
      "metadata": {
        "id": "slzYOZPVxxio"
      },
      "execution_count": 20,
      "outputs": []
    },
    {
      "cell_type": "code",
      "source": [
        "def predict_by_yolov_model(model_v):\n",
        "    if not os.path.exists(WORKING_DIR + 'yolo_data'):\n",
        "        os.makedirs(WORKING_DIR + 'yolo_data')\n",
        "\n",
        "    model = torch.hub.load('ultralytics/yolov5', f'yolo{model_v}')\n",
        "    model.classes = [2]\n",
        "    model.to(DEVICE)\n",
        "\n",
        "    # вырезание машин + номерных знаков предыдущим методом\n",
        "    train_data_cars = []\n",
        "    train_data_plates = []\n",
        "\n",
        "    for img_name in tqdm(list(sorted(train_img_names))): \n",
        "        img = get_img(img_name)\n",
        "        w, h = img.size\n",
        "        results = model(np.array(img)).xyxy[0]\n",
        "        centerized_results = [(result[0] + (result[2] - result[0]) / 2, \n",
        "                               result[1] + (result[3] - result[1]) / 2,\n",
        "                               i)\n",
        "                              for i, result in enumerate(results)]\n",
        "        if not any(centerized_results):\n",
        "            print(img_name)\n",
        "            continue\n",
        "        \n",
        "        centerized_results = list(sorted(centerized_results, key=lambda x: ((w / 2 - x[0]) ** 2 + (h / 2 - x[1]) ** 2) ** 0.5))\n",
        "        for centerized_result in centerized_results:\n",
        "            center_result = results[centerized_result[-1]]\n",
        "            result = list(map(int, center_result))[:4]\n",
        "            car_result = [[result[0], result[1], result[2] - result[0], result[3] - result[1]]]\n",
        "            croped_img = img.crop(result)\n",
        "            plate_imgs = get_car_plate(croped_img, result[0], result[1])\n",
        "            if any(plate_imgs):\n",
        "                break\n",
        "        \n",
        "        if not any(plate_imgs):\n",
        "            print(img_name)\n",
        "            #continue\n",
        "\n",
        "        train_data_cars.append([img_name] + car_result)\n",
        "        train_data_plates.append([img_name] + plate_imgs)\n",
        "\n",
        "        with open(WORKING_DIR + f'yolo_data/train_plates_{model_v}.pkl', 'wb') as f:\n",
        "            pickle.dump(train_data_plates, f)\n",
        "\n",
        "        with open(WORKING_DIR + f'yolo_data/train_cars_{model_v}.pkl', 'wb') as f:\n",
        "            pickle.dump(train_data_cars, f)\n",
        "        \n",
        "    # вырезание машин + номерных знаков предыдущим методом\n",
        "    test_data_cars = []\n",
        "    test_data_plates = []\n",
        "\n",
        "    for img_name in tqdm(list(sorted(test_img_names))): \n",
        "        img = get_img(img_name)\n",
        "        w, h = img.size\n",
        "        results = model(np.array(img)).xyxy[0]\n",
        "        centerized_results = [(result[0] + (result[2] - result[0]) / 2, \n",
        "                               result[1] + (result[3] - result[1]) / 2,\n",
        "                               i)\n",
        "                              for i, result in enumerate(results)]\n",
        "        if not any(centerized_results):\n",
        "            print(img_name)\n",
        "            continue\n",
        "\n",
        "        centerized_results = list(sorted(centerized_results, key=lambda x: ((w / 2 - x[0]) ** 2 + (h / 2 - x[1]) ** 2) ** 0.5))\n",
        "        for centerized_result in centerized_results:\n",
        "            center_result = results[centerized_result[-1]]\n",
        "            result = list(map(int, center_result))[:4]\n",
        "            car_result = [[result[0], result[1], result[2] - result[0], result[3] - result[1]]]\n",
        "            croped_img = img.crop(result)\n",
        "            plate_imgs = get_car_plate(croped_img, result[0], result[1])\n",
        "            if any(plate_imgs):\n",
        "                break\n",
        "        \n",
        "        if not any(plate_imgs):\n",
        "            print(img_name)\n",
        "            #continue\n",
        "\n",
        "        test_data_cars.append([img_name] + car_result)\n",
        "        test_data_plates.append([img_name] + plate_imgs)\n",
        "\n",
        "        with open(WORKING_DIR + f'yolo_data/test_plates_{model_v}.pkl', 'wb') as f:\n",
        "            pickle.dump(test_data_plates, f)\n",
        "\n",
        "        with open(WORKING_DIR + f'yolo_data/test_cars_{model_v}.pkl', 'wb') as f:\n",
        "            pickle.dump(test_data_cars, f)"
      ],
      "metadata": {
        "id": "2TlRLLNyyDfl"
      },
      "execution_count": 24,
      "outputs": []
    },
    {
      "cell_type": "code",
      "source": [
        "for model_v in model_vs:\n",
        "    print('-' * 20)\n",
        "    print(model_v)\n",
        "    predict_by_yolov_model(model_v)"
      ],
      "metadata": {
        "id": "4wxqtZqdyLpe"
      },
      "execution_count": null,
      "outputs": []
    },
    {
      "cell_type": "markdown",
      "metadata": {
        "id": "Xl2mU5CmWVHt"
      },
      "source": [
        "# Init"
      ]
    },
    {
      "cell_type": "code",
      "execution_count": 13,
      "metadata": {
        "id": "luuJgKpZpyO-"
      },
      "outputs": [],
      "source": [
        "train_datas = {}\n",
        "test_datas = {}"
      ]
    },
    {
      "cell_type": "code",
      "execution_count": 14,
      "metadata": {
        "id": "ZaGjfRY3kLuR"
      },
      "outputs": [],
      "source": [
        "for model_v in model_vs:\n",
        "    train_datas[model_v] = {}\n",
        "    test_datas[model_v] = {}\n",
        "    for data_type in ['cars', 'plates']:\n",
        "        train_data = pickle.load(open(WORKING_DIR + f'yolo_data/train_{data_type}_{model_v}.pkl', 'rb'))\n",
        "        test_data = pickle.load(open(WORKING_DIR + f'yolo_data/test_{data_type}_{model_v}.pkl', 'rb'))\n",
        "\n",
        "        train_data = {annotation[0]: annotation[1:] for annotation in train_data}\n",
        "        test_data = {annotation[0]: annotation[1:] for annotation in test_data}\n",
        "\n",
        "        train_datas[model_v][data_type] = train_data\n",
        "        test_datas[model_v][data_type] = test_data"
      ]
    },
    {
      "cell_type": "markdown",
      "metadata": {
        "id": "yAIga-aMm85m"
      },
      "source": [
        "# Работа с данными"
      ]
    },
    {
      "cell_type": "code",
      "execution_count": 15,
      "metadata": {
        "id": "a1kTpD_2MWCy"
      },
      "outputs": [],
      "source": [
        "# нормализирует данные номеров машин\n",
        "def get_normalized_plates_data(plates_data, cars_data):\n",
        "    data_plates_normalized = {img_name:\n",
        "                              [[(annotation[0] - cars_data[img_name][0][0]) / cars_data[img_name][0][2], \n",
        "                                (annotation[1] - cars_data[img_name][0][1]) / cars_data[img_name][0][3],\n",
        "                                annotation[2] / cars_data[img_name][0][2],\n",
        "                                annotation[3] / cars_data[img_name][0][3]]\n",
        "                               for annotation in annotations]\n",
        "                              for img_name, annotations in plates_data.items()}\n",
        "    return data_plates_normalized"
      ]
    },
    {
      "cell_type": "code",
      "execution_count": 16,
      "metadata": {
        "id": "qtA0jHvL16zA"
      },
      "outputs": [],
      "source": [
        "# выбирает индексы самых \"центральных\" номеров машин\n",
        "def get_center_plate_indexes(plates_data, plate_mid):\n",
        "    plate_indexes = {}\n",
        "    for img_name, annotations in plates_data.items():\n",
        "        centers = [[annotation[0] + annotation[2] / 2, annotation[1] + annotation[3] / 2] for annotation in annotations]\n",
        "        distances = [((center[0] - plate_mid[0]) ** 2 + (center[1] - plate_mid[1]) ** 2) ** 0.5 for center in centers]\n",
        "        plate_index = distances.index(min(distances))\n",
        "        plate_indexes[img_name] = plate_index\n",
        "    return plate_indexes"
      ]
    },
    {
      "cell_type": "code",
      "execution_count": 17,
      "metadata": {
        "id": "c1bYZ840Nc6T"
      },
      "outputs": [],
      "source": [
        "# выбирает номера машин по индексам\n",
        "def get_data_plates_from_choose(data_plates, data_plates_choose):\n",
        "    new_data_plates = {}\n",
        "    for img_name, annotations in data_plates.items():\n",
        "        if len(annotations) == 0:\n",
        "            adding = []\n",
        "        elif len(annotations) == 1:\n",
        "            adding = [annotations[0]]\n",
        "        else:\n",
        "            adding = [annotations[data_plates_choose[img_name]]]\n",
        "        new_data_plates[img_name] = adding\n",
        "    return new_data_plates"
      ]
    },
    {
      "cell_type": "code",
      "execution_count": 18,
      "metadata": {
        "id": "9ADBoUe8SW2R"
      },
      "outputs": [],
      "source": [
        "# выбор центральных номеров машин\n",
        "def get_deleted_noncenter_plates(train_data_cars, test_data_cars, train_data_plates, test_data_plates):\n",
        "    train_data_plates_normalized = get_normalized_plates_data(train_data_plates, train_data_cars)\n",
        "    test_data_plates_normalized = get_normalized_plates_data(test_data_plates, test_data_cars)\n",
        "    \n",
        "    mid_coords = [[annotations[0][0] + annotations[0][2] / 2, annotations[0][1] + annotations[0][3] / 2]\n",
        "                  for annotations in list(train_data_plates_normalized.values()) + list(test_data_plates_normalized.values())\n",
        "                  if len(annotations) == 1]\n",
        "    plate_mid = [sum(map(lambda x: x[0], mid_coords)) / len(mid_coords), sum(map(lambda x: x[1], mid_coords)) / len(mid_coords)]\n",
        "\n",
        "    train_data_plates_choose = {img_name: annotations for img_name, annotations in train_data_plates_normalized.items() if len(annotations) > 1}\n",
        "    test_data_plates_choose = {img_name: annotations for img_name, annotations in test_data_plates_normalized.items() if len(annotations) > 1}\n",
        "\n",
        "    train_data_plates_choose = get_center_plate_indexes(train_data_plates_choose, plate_mid)\n",
        "    test_data_plates_choose = get_center_plate_indexes(test_data_plates_choose, plate_mid)\n",
        "\n",
        "    train_data_plates = get_data_plates_from_choose(train_data_plates, train_data_plates_choose)\n",
        "    test_data_plates = get_data_plates_from_choose(test_data_plates, test_data_plates_choose)\n",
        "\n",
        "    return train_data_plates, test_data_plates"
      ]
    },
    {
      "cell_type": "code",
      "execution_count": 19,
      "metadata": {
        "id": "IpjNcDoZR0uX"
      },
      "outputs": [],
      "source": [
        "# соединить данные об аннотациях машин и номеров \n",
        "def combine_cars_plates_data(data_cars, data_plates, img_names):\n",
        "    img_names_plates = list(filter(lambda x: x in data_cars.keys() and x in data_plates.keys(), img_names))\n",
        "\n",
        "    data = []\n",
        "    for img_name in img_names:\n",
        "        adding = [img_name]\n",
        "        if img_name in data_cars.keys():\n",
        "            adding += data_cars[img_name]\n",
        "            if img_name in data_plates.keys():\n",
        "                adding += data_plates[img_name]\n",
        "        data.append(adding)\n",
        "\n",
        "    return data"
      ]
    },
    {
      "cell_type": "code",
      "execution_count": 20,
      "metadata": {
        "id": "dWnB5fz2Udlw"
      },
      "outputs": [],
      "source": [
        "# расширение данных\n",
        "def extend_data_df(data_df):\n",
        "    data_df['w_img'] = W_IMG\n",
        "    data_df['h_img'] = H_IMG\n",
        "    \n",
        "    for suffix1 in ['_car', '_plate']:\n",
        "        data_df['xmax' + suffix1] = data_df['xmin' + suffix1] + data_df['w' + suffix1]\n",
        "        data_df['ymax' + suffix1] = data_df['ymin' + suffix1] + data_df['h' + suffix1]\n",
        "    \n",
        "    for suffix1 in ['_car', '_plate']:\n",
        "        data_df['distance_to_center' + suffix1] = (((data_df['xmin_car'] + data_df['w_car'] / 2) - data_df['w_img'] / 2) ** 2 + \n",
        "                                                   ((data_df['ymin_car'] + data_df['h_car'] / 2) - data_df['h_img'] / 2) ** 2) ** 0.5"
      ]
    },
    {
      "cell_type": "code",
      "execution_count": 21,
      "metadata": {
        "id": "Ly2mh3bBK6_1"
      },
      "outputs": [],
      "source": [
        "for model_v in model_vs:\n",
        "    train_data_cars = train_datas[model_v]['cars']\n",
        "    train_data_plates = train_datas[model_v]['plates']\n",
        "    test_data_cars = test_datas[model_v]['cars']\n",
        "    test_data_plates = test_datas[model_v]['plates']\n",
        "\n",
        "    train_data_plates, test_data_plates = get_deleted_noncenter_plates(train_data_cars, test_data_cars, train_data_plates, test_data_plates)\n",
        "\n",
        "    # выбор первого элемента у всех аннотаций\n",
        "    select_first = lambda data: {key: value[0] for key, value in data.items() if any(value)}\n",
        "\n",
        "    train_data_cars = select_first(train_data_cars)\n",
        "    train_data_plates = select_first(train_data_plates)\n",
        "    test_data_cars = select_first(test_data_cars)\n",
        "    test_data_plates = select_first(test_data_plates)\n",
        "\n",
        "    train_data = combine_cars_plates_data(train_data_cars, train_data_plates, train_img_names)\n",
        "    test_data = combine_cars_plates_data(test_data_cars, test_data_plates, test_img_names)\n",
        "    \n",
        "    train_data_df = pd.DataFrame(train_data, columns=['img_name', 'xmin_car', 'ymin_car', 'w_car', 'h_car', 'xmin_plate', 'ymin_plate', 'w_plate', 'h_plate'])\n",
        "    test_data_df = pd.DataFrame(test_data, columns=['img_name', 'xmin_car', 'ymin_car', 'w_car', 'h_car', 'xmin_plate', 'ymin_plate', 'w_plate', 'h_plate'])\n",
        "\n",
        "    train_data_df = pd.concat([train_data_df, test_data_df])\n",
        "    train_data_df = pd.merge(train_labels_first_df, train_data_df, how='left')\n",
        "\n",
        "    extend_data_df(train_data_df)\n",
        "    extend_data_df(test_data_df)\n",
        "\n",
        "    # очищение данных, где не выделены номерные знаки\n",
        "    train_data_df = train_data_df[train_data_df['xmin_plate'].notna()]\n",
        "    test_data_df = test_data_df[test_data_df['xmin_plate'].notna()]\n",
        "\n",
        "    # очищение аннотаций машин, не близких к центру\n",
        "    train_data_df = train_data_df[train_data_df['distance_to_center_car'] < 500]\n",
        "    test_data_df = test_data_df[test_data_df['distance_to_center_car'] < 500]\n",
        "\n",
        "    train_datas[model_v] = train_data_df\n",
        "    test_datas[model_v] = test_data_df"
      ]
    },
    {
      "cell_type": "markdown",
      "metadata": {
        "id": "udcsZnwEWql1"
      },
      "source": [
        "# Обучение моделей"
      ]
    },
    {
      "cell_type": "code",
      "execution_count": 22,
      "metadata": {
        "id": "120gUjsDXhd_"
      },
      "outputs": [],
      "source": [
        "# обучение модели на датасете\n",
        "def get_trained_model(train_data_df):\n",
        "    train_data_df = train_data_df.dropna()\n",
        "    model = CatBoostRegressor(verbose=False)\n",
        "    model.fit(train_data_df.drop(columns=['distance']), train_data_df['distance'])\n",
        "    return model"
      ]
    },
    {
      "cell_type": "code",
      "execution_count": 23,
      "metadata": {
        "id": "Y955gPk5Wtqg"
      },
      "outputs": [],
      "source": [
        "models = {}\n",
        "for model_v in model_vs:\n",
        "    data_df = train_datas[model_v].copy()\n",
        "\n",
        "    models[model_v] = []\n",
        "    models[model_v].append(get_trained_model(data_df[DATA_TRAINING_COLS]))"
      ]
    },
    {
      "cell_type": "markdown",
      "metadata": {
        "id": "RR6QuzrCa9tb"
      },
      "source": [
        "# Сохранение моделей"
      ]
    },
    {
      "cell_type": "code",
      "execution_count": 24,
      "metadata": {
        "id": "H58DFIMxbCe_"
      },
      "outputs": [],
      "source": [
        "saving_path = WORKING_DIR + 'catboosting_models/out/first/'\n",
        "for model_type, cb_models in models.items():\n",
        "    saving_models_path = saving_path + model_type + '/'\n",
        "    if not os.path.exists(saving_models_path):\n",
        "        os.makedirs(saving_models_path)\n",
        "    for i, model in enumerate(cb_models):\n",
        "        if isinstance(model, CatBoostRegressor):\n",
        "            model.save_model(saving_models_path + str(i) + '.cb')\n",
        "        else:\n",
        "            pickle.dump(model, open(saving_models_path + str(i) + '.pkl', 'wb'))"
      ]
    },
    {
      "cell_type": "markdown",
      "metadata": {
        "id": "CAUSUyg2bAbb"
      },
      "source": [
        "# Загрузка моделей"
      ]
    },
    {
      "cell_type": "code",
      "execution_count": 25,
      "metadata": {
        "id": "YQ4uuPzcc0cE"
      },
      "outputs": [],
      "source": [
        "models = {}\n",
        "loading_path = WORKING_DIR + 'catboosting_models/out/first/'\n",
        "for model_type in os.listdir(loading_path):\n",
        "    loading_models_path = loading_path + model_type + '/'\n",
        "    models[model_type] = []\n",
        "    for cb_model_name in sorted(os.listdir(loading_models_path), key=lambda x: int(x.replace('.cb', ''))):\n",
        "        loading_model_path = loading_models_path + cb_model_name\n",
        "        model = CatBoostRegressor()\n",
        "        model.load_model(loading_model_path)\n",
        "        models[model_type].append(model)"
      ]
    },
    {
      "cell_type": "markdown",
      "metadata": {
        "id": "6oMVYn6Shur8"
      },
      "source": [
        "# Предсказания"
      ]
    },
    {
      "cell_type": "code",
      "execution_count": 26,
      "metadata": {
        "id": "S4gFjFwnflKa"
      },
      "outputs": [],
      "source": [
        "# получение предсказание модели\n",
        "def get_prediction(data_df, img_names, model):\n",
        "    data_df = data_df.dropna()\n",
        "\n",
        "    preds = model.predict(data_df.drop(columns=['img_name']))\n",
        "    data_df['distance'] = preds\n",
        "\n",
        "    data_predicted = data_df[['img_name', 'distance']]\n",
        "\n",
        "    lost_test_items = []\n",
        "    for img_name in set(img_names) - set(data_predicted['img_name'].values):\n",
        "        distance = 0\n",
        "        lost_test_items.append([img_name, distance])\n",
        "    lost_test_items_df = pd.DataFrame(lost_test_items, columns=['img_name', 'distance'])\n",
        "\n",
        "    data_predicted = pd.concat([data_predicted, lost_test_items_df])\n",
        "    data_predicted = data_predicted.sort_values(by='img_name')\n",
        "\n",
        "    return data_predicted"
      ]
    },
    {
      "cell_type": "code",
      "execution_count": 27,
      "metadata": {
        "id": "hoPVvZhXa6_K"
      },
      "outputs": [],
      "source": [
        "all_test_preds = {}\n",
        "for model_v in model_vs:\n",
        "    test_data_df = test_datas[model_v].copy()\n",
        "    all_test_preds[model_v] = []\n",
        "\n",
        "    model = models[model_v][0]\n",
        "    data_predicted = get_prediction(test_data_df[DATA_TESTING_COLS + ['img_name']], test_img_names, model)\n",
        "    all_test_preds[model_v].append(data_predicted)"
      ]
    },
    {
      "cell_type": "markdown",
      "metadata": {
        "id": "LnnHqCJskU5O"
      },
      "source": [
        "# Обработка предсказаний all_test_preds"
      ]
    },
    {
      "cell_type": "code",
      "execution_count": 28,
      "metadata": {
        "id": "vY_xB53hkS2G"
      },
      "outputs": [],
      "source": [
        "submission = {}\n",
        "for model_v in model_vs:\n",
        "    preds = all_test_preds[model_v][0]\n",
        "    for img_name in preds['img_name']:\n",
        "        distance = preds[preds['img_name'] == img_name]['distance'].values[0]\n",
        "        if distance != 0:\n",
        "            submission[img_name] = submission.get(img_name, []) + [distance]"
      ]
    },
    {
      "cell_type": "code",
      "execution_count": 29,
      "metadata": {
        "id": "KHtKI00LlWDe"
      },
      "outputs": [],
      "source": [
        "submission_df = pd.DataFrame({}, columns=['img_name', 'distance'])\n",
        "for img_name, distances in submission.items():\n",
        "    row = {'img_name': img_name, 'distance': sum(distances) / len(distances)}\n",
        "    submission_df = submission_df.append(row, ignore_index=True)"
      ]
    },
    {
      "cell_type": "code",
      "execution_count": 30,
      "metadata": {
        "id": "Vre_hv80sr8q"
      },
      "outputs": [],
      "source": [
        "test_labels_df = submission_df.sort_values(by='img_name').reset_index()\n",
        "del test_labels_df['index']"
      ]
    },
    {
      "cell_type": "code",
      "source": [
        "test_labels_df"
      ],
      "metadata": {
        "colab": {
          "base_uri": "https://localhost:8080/",
          "height": 0
        },
        "id": "C_zU1WqLzqhR",
        "outputId": "5cc0e6c0-b3d8-43aa-c83c-cf92f97b8a12"
      },
      "execution_count": 31,
      "outputs": [
        {
          "output_type": "execute_result",
          "data": {
            "text/plain": [
              "         img_name  distance\n",
              "0    img_1597.jpg  3.041297\n",
              "1    img_1598.jpg  2.282192\n",
              "2    img_1599.jpg  1.722570\n",
              "3    img_1602.jpg  2.351755\n",
              "4    img_1604.jpg  1.682044\n",
              "..            ...       ...\n",
              "516  img_2936.jpg  2.851154\n",
              "517  img_2938.jpg  2.457940\n",
              "518  img_2942.jpg  4.026504\n",
              "519  img_2943.jpg  4.255964\n",
              "520  img_2946.jpg  5.669988\n",
              "\n",
              "[521 rows x 2 columns]"
            ],
            "text/html": [
              "\n",
              "  <div id=\"df-e90e68ac-a706-4c10-b90f-afaf7770544c\">\n",
              "    <div class=\"colab-df-container\">\n",
              "      <div>\n",
              "<style scoped>\n",
              "    .dataframe tbody tr th:only-of-type {\n",
              "        vertical-align: middle;\n",
              "    }\n",
              "\n",
              "    .dataframe tbody tr th {\n",
              "        vertical-align: top;\n",
              "    }\n",
              "\n",
              "    .dataframe thead th {\n",
              "        text-align: right;\n",
              "    }\n",
              "</style>\n",
              "<table border=\"1\" class=\"dataframe\">\n",
              "  <thead>\n",
              "    <tr style=\"text-align: right;\">\n",
              "      <th></th>\n",
              "      <th>img_name</th>\n",
              "      <th>distance</th>\n",
              "    </tr>\n",
              "  </thead>\n",
              "  <tbody>\n",
              "    <tr>\n",
              "      <th>0</th>\n",
              "      <td>img_1597.jpg</td>\n",
              "      <td>3.041297</td>\n",
              "    </tr>\n",
              "    <tr>\n",
              "      <th>1</th>\n",
              "      <td>img_1598.jpg</td>\n",
              "      <td>2.282192</td>\n",
              "    </tr>\n",
              "    <tr>\n",
              "      <th>2</th>\n",
              "      <td>img_1599.jpg</td>\n",
              "      <td>1.722570</td>\n",
              "    </tr>\n",
              "    <tr>\n",
              "      <th>3</th>\n",
              "      <td>img_1602.jpg</td>\n",
              "      <td>2.351755</td>\n",
              "    </tr>\n",
              "    <tr>\n",
              "      <th>4</th>\n",
              "      <td>img_1604.jpg</td>\n",
              "      <td>1.682044</td>\n",
              "    </tr>\n",
              "    <tr>\n",
              "      <th>...</th>\n",
              "      <td>...</td>\n",
              "      <td>...</td>\n",
              "    </tr>\n",
              "    <tr>\n",
              "      <th>516</th>\n",
              "      <td>img_2936.jpg</td>\n",
              "      <td>2.851154</td>\n",
              "    </tr>\n",
              "    <tr>\n",
              "      <th>517</th>\n",
              "      <td>img_2938.jpg</td>\n",
              "      <td>2.457940</td>\n",
              "    </tr>\n",
              "    <tr>\n",
              "      <th>518</th>\n",
              "      <td>img_2942.jpg</td>\n",
              "      <td>4.026504</td>\n",
              "    </tr>\n",
              "    <tr>\n",
              "      <th>519</th>\n",
              "      <td>img_2943.jpg</td>\n",
              "      <td>4.255964</td>\n",
              "    </tr>\n",
              "    <tr>\n",
              "      <th>520</th>\n",
              "      <td>img_2946.jpg</td>\n",
              "      <td>5.669988</td>\n",
              "    </tr>\n",
              "  </tbody>\n",
              "</table>\n",
              "<p>521 rows × 2 columns</p>\n",
              "</div>\n",
              "      <button class=\"colab-df-convert\" onclick=\"convertToInteractive('df-e90e68ac-a706-4c10-b90f-afaf7770544c')\"\n",
              "              title=\"Convert this dataframe to an interactive table.\"\n",
              "              style=\"display:none;\">\n",
              "        \n",
              "  <svg xmlns=\"http://www.w3.org/2000/svg\" height=\"24px\"viewBox=\"0 0 24 24\"\n",
              "       width=\"24px\">\n",
              "    <path d=\"M0 0h24v24H0V0z\" fill=\"none\"/>\n",
              "    <path d=\"M18.56 5.44l.94 2.06.94-2.06 2.06-.94-2.06-.94-.94-2.06-.94 2.06-2.06.94zm-11 1L8.5 8.5l.94-2.06 2.06-.94-2.06-.94L8.5 2.5l-.94 2.06-2.06.94zm10 10l.94 2.06.94-2.06 2.06-.94-2.06-.94-.94-2.06-.94 2.06-2.06.94z\"/><path d=\"M17.41 7.96l-1.37-1.37c-.4-.4-.92-.59-1.43-.59-.52 0-1.04.2-1.43.59L10.3 9.45l-7.72 7.72c-.78.78-.78 2.05 0 2.83L4 21.41c.39.39.9.59 1.41.59.51 0 1.02-.2 1.41-.59l7.78-7.78 2.81-2.81c.8-.78.8-2.07 0-2.86zM5.41 20L4 18.59l7.72-7.72 1.47 1.35L5.41 20z\"/>\n",
              "  </svg>\n",
              "      </button>\n",
              "      \n",
              "  <style>\n",
              "    .colab-df-container {\n",
              "      display:flex;\n",
              "      flex-wrap:wrap;\n",
              "      gap: 12px;\n",
              "    }\n",
              "\n",
              "    .colab-df-convert {\n",
              "      background-color: #E8F0FE;\n",
              "      border: none;\n",
              "      border-radius: 50%;\n",
              "      cursor: pointer;\n",
              "      display: none;\n",
              "      fill: #1967D2;\n",
              "      height: 32px;\n",
              "      padding: 0 0 0 0;\n",
              "      width: 32px;\n",
              "    }\n",
              "\n",
              "    .colab-df-convert:hover {\n",
              "      background-color: #E2EBFA;\n",
              "      box-shadow: 0px 1px 2px rgba(60, 64, 67, 0.3), 0px 1px 3px 1px rgba(60, 64, 67, 0.15);\n",
              "      fill: #174EA6;\n",
              "    }\n",
              "\n",
              "    [theme=dark] .colab-df-convert {\n",
              "      background-color: #3B4455;\n",
              "      fill: #D2E3FC;\n",
              "    }\n",
              "\n",
              "    [theme=dark] .colab-df-convert:hover {\n",
              "      background-color: #434B5C;\n",
              "      box-shadow: 0px 1px 3px 1px rgba(0, 0, 0, 0.15);\n",
              "      filter: drop-shadow(0px 1px 2px rgba(0, 0, 0, 0.3));\n",
              "      fill: #FFFFFF;\n",
              "    }\n",
              "  </style>\n",
              "\n",
              "      <script>\n",
              "        const buttonEl =\n",
              "          document.querySelector('#df-e90e68ac-a706-4c10-b90f-afaf7770544c button.colab-df-convert');\n",
              "        buttonEl.style.display =\n",
              "          google.colab.kernel.accessAllowed ? 'block' : 'none';\n",
              "\n",
              "        async function convertToInteractive(key) {\n",
              "          const element = document.querySelector('#df-e90e68ac-a706-4c10-b90f-afaf7770544c');\n",
              "          const dataTable =\n",
              "            await google.colab.kernel.invokeFunction('convertToInteractive',\n",
              "                                                     [key], {});\n",
              "          if (!dataTable) return;\n",
              "\n",
              "          const docLinkHtml = 'Like what you see? Visit the ' +\n",
              "            '<a target=\"_blank\" href=https://colab.research.google.com/notebooks/data_table.ipynb>data table notebook</a>'\n",
              "            + ' to learn more about interactive tables.';\n",
              "          element.innerHTML = '';\n",
              "          dataTable['output_type'] = 'display_data';\n",
              "          await google.colab.output.renderOutput(dataTable, element);\n",
              "          const docLink = document.createElement('div');\n",
              "          docLink.innerHTML = docLinkHtml;\n",
              "          element.appendChild(docLink);\n",
              "        }\n",
              "      </script>\n",
              "    </div>\n",
              "  </div>\n",
              "  "
            ]
          },
          "metadata": {},
          "execution_count": 31
        }
      ]
    },
    {
      "cell_type": "markdown",
      "source": [
        "# Далее"
      ],
      "metadata": {
        "id": "KW__u6SWV9Oj"
      }
    },
    {
      "cell_type": "code",
      "source": [
        "if not os.path.exists(WORKING_DIR + 'submit'):\n",
        "    os.makedirs(WORKING_DIR + 'submit')"
      ],
      "metadata": {
        "id": "UYcDRqNFzgLl"
      },
      "execution_count": 32,
      "outputs": []
    },
    {
      "cell_type": "code",
      "source": [
        "for iteration in tqdm(range(48)):\n",
        "    train_labels_df = pd.concat([train_labels_first_df, test_labels_df])\n",
        "    train_datas = {}\n",
        "    test_datas = {}\n",
        "    for model_v in model_vs:\n",
        "        train_datas[model_v] = {}\n",
        "        test_datas[model_v] = {}\n",
        "        for data_type in ['cars', 'plates']:\n",
        "            train_data = pickle.load(open(WORKING_DIR + f'yolo_data/train_{data_type}_{model_v}.pkl', 'rb'))\n",
        "            test_data = pickle.load(open(WORKING_DIR + f'yolo_data/test_{data_type}_{model_v}.pkl', 'rb'))\n",
        "\n",
        "            train_data = {annotation[0]: annotation[1:] for annotation in train_data}\n",
        "            test_data = {annotation[0]: annotation[1:] for annotation in test_data}\n",
        "\n",
        "            train_datas[model_v][data_type] = train_data\n",
        "            test_datas[model_v][data_type] = test_data\n",
        "    for model_v in model_vs:\n",
        "        train_data_cars = train_datas[model_v]['cars']\n",
        "        train_data_plates = train_datas[model_v]['plates']\n",
        "        test_data_cars = test_datas[model_v]['cars']\n",
        "        test_data_plates = test_datas[model_v]['plates']\n",
        "\n",
        "        train_data_plates, test_data_plates = get_deleted_noncenter_plates(train_data_cars, test_data_cars, train_data_plates, test_data_plates)\n",
        "\n",
        "        # выбор первого элемента у всех аннотаций\n",
        "        select_first = lambda data: {key: value[0] for key, value in data.items() if any(value)}\n",
        "\n",
        "        train_data_cars = select_first(train_data_cars)\n",
        "        train_data_plates = select_first(train_data_plates)\n",
        "        test_data_cars = select_first(test_data_cars)\n",
        "        test_data_plates = select_first(test_data_plates)\n",
        "\n",
        "        train_data = combine_cars_plates_data(train_data_cars, train_data_plates, train_img_names)\n",
        "        test_data = combine_cars_plates_data(test_data_cars, test_data_plates, test_img_names)\n",
        "\n",
        "        train_data_df = pd.DataFrame(train_data, columns=['img_name', 'xmin_car', 'ymin_car', 'w_car', 'h_car', 'xmin_plate', 'ymin_plate', 'w_plate', 'h_plate'])\n",
        "        test_data_df = pd.DataFrame(test_data, columns=['img_name', 'xmin_car', 'ymin_car', 'w_car', 'h_car', 'xmin_plate', 'ymin_plate', 'w_plate', 'h_plate'])\n",
        "\n",
        "        train_data_df = pd.concat([train_data_df, test_data_df])\n",
        "        ###train_labels_df/train_labels_first_df\n",
        "        train_data_df = pd.merge(train_labels_df, train_data_df, how='left')\n",
        "        ###\n",
        "\n",
        "        extend_data_df(train_data_df)\n",
        "        extend_data_df(test_data_df)\n",
        "\n",
        "        # очищение данных, где не выделены номерные знаки\n",
        "        train_data_df = train_data_df[train_data_df['xmin_plate'].notna()]\n",
        "        test_data_df = test_data_df[test_data_df['xmin_plate'].notna()]\n",
        "\n",
        "        # очищение аннотаций машин, не близких к центру\n",
        "        train_data_df = train_data_df[train_data_df['distance_to_center_car'] < 500]\n",
        "        test_data_df = test_data_df[test_data_df['distance_to_center_car'] < 500]\n",
        "\n",
        "        train_datas[model_v] = train_data_df\n",
        "        test_datas[model_v] = test_data_df\n",
        "\n",
        "    models = {}\n",
        "    for model_v in model_vs:\n",
        "        data_df = train_datas[model_v].copy()\n",
        "\n",
        "        models[model_v] = []\n",
        "        models[model_v].append(get_trained_model(data_df[DATA_TRAINING_COLS]))\n",
        "\n",
        "    saving_path = WORKING_DIR + f'catboosting_models/out/{iteration}/'\n",
        "    for model_type, cb_models in models.items():\n",
        "        saving_models_path = saving_path + model_type + '/'\n",
        "        if not os.path.exists(saving_models_path):\n",
        "            os.makedirs(saving_models_path)\n",
        "        for i, model in enumerate(cb_models):\n",
        "            if isinstance(model, CatBoostRegressor):\n",
        "                model.save_model(saving_models_path + str(i) + '.cb')\n",
        "            else:\n",
        "                pickle.dump(model, open(saving_models_path + str(i) + '.pkl', 'wb'))\n",
        "    \n",
        "    models = {}\n",
        "    loading_path = saving_path\n",
        "    for model_type in os.listdir(loading_path):\n",
        "        loading_models_path = loading_path + model_type + '/'\n",
        "        models[model_type] = []\n",
        "        for cb_model_name in sorted(os.listdir(loading_models_path), key=lambda x: int(x.replace('.cb', ''))):\n",
        "            loading_model_path = loading_models_path + cb_model_name\n",
        "            model = CatBoostRegressor()\n",
        "            model.load_model(loading_model_path)\n",
        "            models[model_type].append(model)\n",
        "    \n",
        "    all_test_preds = {}\n",
        "    for model_v in model_vs:\n",
        "        test_data_df = test_datas[model_v].copy()\n",
        "        all_test_preds[model_v] = []\n",
        "\n",
        "        model = models[model_v][0]\n",
        "        data_predicted = get_prediction(test_data_df[DATA_TESTING_COLS + ['img_name']], test_img_names, model)\n",
        "        all_test_preds[model_v].append(data_predicted)\n",
        "    \n",
        "    submission = {}\n",
        "    for model_v in model_vs:\n",
        "        preds = all_test_preds[model_v][0]\n",
        "        for img_name in preds['img_name']:\n",
        "            distance = preds[preds['img_name'] == img_name]['distance'].values[0]\n",
        "            if distance != 0:\n",
        "                submission[img_name] = submission.get(img_name, []) + [distance]\n",
        "    \n",
        "    submission_df = pd.DataFrame({}, columns=['img_name', 'distance'])\n",
        "    for img_name, distances in submission.items():\n",
        "        row = {'img_name': img_name, 'distance': sum(distances) / len(distances)}\n",
        "        submission_df = submission_df.append(row, ignore_index=True)\n",
        "    \n",
        "    test_labels_df = submission_df.sort_values(by='img_name').reset_index()\n",
        "    del test_labels_df['index']\n",
        "    test_labels_df.to_csv(WORKING_DIR + f'submit/catboosting_train_on_full_data_all_models_{iteration + 1}.csv', sep=';', index=False)"
      ],
      "metadata": {
        "colab": {
          "base_uri": "https://localhost:8080/"
        },
        "id": "2QY-Fr8-TP5J",
        "outputId": "7a545606-0b50-4c32-adf0-4a970a0dc980"
      },
      "execution_count": 33,
      "outputs": [
        {
          "output_type": "stream",
          "name": "stderr",
          "text": [
            "100%|██████████| 48/48 [25:28<00:00, 31.84s/it]\n"
          ]
        }
      ]
    },
    {
      "cell_type": "code",
      "source": [
        "test_labels_df"
      ],
      "metadata": {
        "colab": {
          "base_uri": "https://localhost:8080/",
          "height": 423
        },
        "id": "luE1nxb4VK7k",
        "outputId": "0fc4f60f-d90f-44d6-d7c3-091fcd58679b"
      },
      "execution_count": 34,
      "outputs": [
        {
          "output_type": "execute_result",
          "data": {
            "text/plain": [
              "         img_name  distance\n",
              "0    img_1597.jpg  2.962202\n",
              "1    img_1598.jpg  2.156337\n",
              "2    img_1599.jpg  1.707230\n",
              "3    img_1602.jpg  2.274215\n",
              "4    img_1604.jpg  1.433453\n",
              "..            ...       ...\n",
              "516  img_2936.jpg  2.554438\n",
              "517  img_2938.jpg  1.815709\n",
              "518  img_2942.jpg  4.066003\n",
              "519  img_2943.jpg  4.158153\n",
              "520  img_2946.jpg  5.510208\n",
              "\n",
              "[521 rows x 2 columns]"
            ],
            "text/html": [
              "\n",
              "  <div id=\"df-aacded28-9876-4d19-8bb9-bd57a25bb630\">\n",
              "    <div class=\"colab-df-container\">\n",
              "      <div>\n",
              "<style scoped>\n",
              "    .dataframe tbody tr th:only-of-type {\n",
              "        vertical-align: middle;\n",
              "    }\n",
              "\n",
              "    .dataframe tbody tr th {\n",
              "        vertical-align: top;\n",
              "    }\n",
              "\n",
              "    .dataframe thead th {\n",
              "        text-align: right;\n",
              "    }\n",
              "</style>\n",
              "<table border=\"1\" class=\"dataframe\">\n",
              "  <thead>\n",
              "    <tr style=\"text-align: right;\">\n",
              "      <th></th>\n",
              "      <th>img_name</th>\n",
              "      <th>distance</th>\n",
              "    </tr>\n",
              "  </thead>\n",
              "  <tbody>\n",
              "    <tr>\n",
              "      <th>0</th>\n",
              "      <td>img_1597.jpg</td>\n",
              "      <td>2.962202</td>\n",
              "    </tr>\n",
              "    <tr>\n",
              "      <th>1</th>\n",
              "      <td>img_1598.jpg</td>\n",
              "      <td>2.156337</td>\n",
              "    </tr>\n",
              "    <tr>\n",
              "      <th>2</th>\n",
              "      <td>img_1599.jpg</td>\n",
              "      <td>1.707230</td>\n",
              "    </tr>\n",
              "    <tr>\n",
              "      <th>3</th>\n",
              "      <td>img_1602.jpg</td>\n",
              "      <td>2.274215</td>\n",
              "    </tr>\n",
              "    <tr>\n",
              "      <th>4</th>\n",
              "      <td>img_1604.jpg</td>\n",
              "      <td>1.433453</td>\n",
              "    </tr>\n",
              "    <tr>\n",
              "      <th>...</th>\n",
              "      <td>...</td>\n",
              "      <td>...</td>\n",
              "    </tr>\n",
              "    <tr>\n",
              "      <th>516</th>\n",
              "      <td>img_2936.jpg</td>\n",
              "      <td>2.554438</td>\n",
              "    </tr>\n",
              "    <tr>\n",
              "      <th>517</th>\n",
              "      <td>img_2938.jpg</td>\n",
              "      <td>1.815709</td>\n",
              "    </tr>\n",
              "    <tr>\n",
              "      <th>518</th>\n",
              "      <td>img_2942.jpg</td>\n",
              "      <td>4.066003</td>\n",
              "    </tr>\n",
              "    <tr>\n",
              "      <th>519</th>\n",
              "      <td>img_2943.jpg</td>\n",
              "      <td>4.158153</td>\n",
              "    </tr>\n",
              "    <tr>\n",
              "      <th>520</th>\n",
              "      <td>img_2946.jpg</td>\n",
              "      <td>5.510208</td>\n",
              "    </tr>\n",
              "  </tbody>\n",
              "</table>\n",
              "<p>521 rows × 2 columns</p>\n",
              "</div>\n",
              "      <button class=\"colab-df-convert\" onclick=\"convertToInteractive('df-aacded28-9876-4d19-8bb9-bd57a25bb630')\"\n",
              "              title=\"Convert this dataframe to an interactive table.\"\n",
              "              style=\"display:none;\">\n",
              "        \n",
              "  <svg xmlns=\"http://www.w3.org/2000/svg\" height=\"24px\"viewBox=\"0 0 24 24\"\n",
              "       width=\"24px\">\n",
              "    <path d=\"M0 0h24v24H0V0z\" fill=\"none\"/>\n",
              "    <path d=\"M18.56 5.44l.94 2.06.94-2.06 2.06-.94-2.06-.94-.94-2.06-.94 2.06-2.06.94zm-11 1L8.5 8.5l.94-2.06 2.06-.94-2.06-.94L8.5 2.5l-.94 2.06-2.06.94zm10 10l.94 2.06.94-2.06 2.06-.94-2.06-.94-.94-2.06-.94 2.06-2.06.94z\"/><path d=\"M17.41 7.96l-1.37-1.37c-.4-.4-.92-.59-1.43-.59-.52 0-1.04.2-1.43.59L10.3 9.45l-7.72 7.72c-.78.78-.78 2.05 0 2.83L4 21.41c.39.39.9.59 1.41.59.51 0 1.02-.2 1.41-.59l7.78-7.78 2.81-2.81c.8-.78.8-2.07 0-2.86zM5.41 20L4 18.59l7.72-7.72 1.47 1.35L5.41 20z\"/>\n",
              "  </svg>\n",
              "      </button>\n",
              "      \n",
              "  <style>\n",
              "    .colab-df-container {\n",
              "      display:flex;\n",
              "      flex-wrap:wrap;\n",
              "      gap: 12px;\n",
              "    }\n",
              "\n",
              "    .colab-df-convert {\n",
              "      background-color: #E8F0FE;\n",
              "      border: none;\n",
              "      border-radius: 50%;\n",
              "      cursor: pointer;\n",
              "      display: none;\n",
              "      fill: #1967D2;\n",
              "      height: 32px;\n",
              "      padding: 0 0 0 0;\n",
              "      width: 32px;\n",
              "    }\n",
              "\n",
              "    .colab-df-convert:hover {\n",
              "      background-color: #E2EBFA;\n",
              "      box-shadow: 0px 1px 2px rgba(60, 64, 67, 0.3), 0px 1px 3px 1px rgba(60, 64, 67, 0.15);\n",
              "      fill: #174EA6;\n",
              "    }\n",
              "\n",
              "    [theme=dark] .colab-df-convert {\n",
              "      background-color: #3B4455;\n",
              "      fill: #D2E3FC;\n",
              "    }\n",
              "\n",
              "    [theme=dark] .colab-df-convert:hover {\n",
              "      background-color: #434B5C;\n",
              "      box-shadow: 0px 1px 3px 1px rgba(0, 0, 0, 0.15);\n",
              "      filter: drop-shadow(0px 1px 2px rgba(0, 0, 0, 0.3));\n",
              "      fill: #FFFFFF;\n",
              "    }\n",
              "  </style>\n",
              "\n",
              "      <script>\n",
              "        const buttonEl =\n",
              "          document.querySelector('#df-aacded28-9876-4d19-8bb9-bd57a25bb630 button.colab-df-convert');\n",
              "        buttonEl.style.display =\n",
              "          google.colab.kernel.accessAllowed ? 'block' : 'none';\n",
              "\n",
              "        async function convertToInteractive(key) {\n",
              "          const element = document.querySelector('#df-aacded28-9876-4d19-8bb9-bd57a25bb630');\n",
              "          const dataTable =\n",
              "            await google.colab.kernel.invokeFunction('convertToInteractive',\n",
              "                                                     [key], {});\n",
              "          if (!dataTable) return;\n",
              "\n",
              "          const docLinkHtml = 'Like what you see? Visit the ' +\n",
              "            '<a target=\"_blank\" href=https://colab.research.google.com/notebooks/data_table.ipynb>data table notebook</a>'\n",
              "            + ' to learn more about interactive tables.';\n",
              "          element.innerHTML = '';\n",
              "          dataTable['output_type'] = 'display_data';\n",
              "          await google.colab.output.renderOutput(dataTable, element);\n",
              "          const docLink = document.createElement('div');\n",
              "          docLink.innerHTML = docLinkHtml;\n",
              "          element.appendChild(docLink);\n",
              "        }\n",
              "      </script>\n",
              "    </div>\n",
              "  </div>\n",
              "  "
            ]
          },
          "metadata": {},
          "execution_count": 34
        }
      ]
    },
    {
      "cell_type": "code",
      "execution_count": 35,
      "metadata": {
        "id": "ay-oKvTqjUKC"
      },
      "outputs": [],
      "source": [
        "test_labels_df.round(2).to_csv(f'out.csv', sep=';', index=False)"
      ]
    }
  ],
  "metadata": {
    "colab": {
      "collapsed_sections": [
        "xb3_HH2_wjlm",
        "4EsAwYxzxvZ1",
        "Xl2mU5CmWVHt",
        "yAIga-aMm85m",
        "udcsZnwEWql1",
        "RR6QuzrCa9tb",
        "CAUSUyg2bAbb",
        "6oMVYn6Shur8",
        "LnnHqCJskU5O"
      ],
      "name": "cardistance_train.ipynb",
      "provenance": []
    },
    "gpuClass": "standard",
    "kernelspec": {
      "display_name": "Python 3",
      "name": "python3"
    },
    "language_info": {
      "name": "python"
    }
  },
  "nbformat": 4,
  "nbformat_minor": 0
}